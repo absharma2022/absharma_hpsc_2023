{
 "cells": [
  {
   "cell_type": "markdown",
   "id": "8389c288",
   "metadata": {},
   "source": [
    "# This is function to calculate the exponential using \n",
    "\n",
    "# the exponential series that takes the number of terms of\n",
    "\n",
    "# the series as an argument, use default of 100\n"
   ]
  },
  {
   "cell_type": "code",
   "execution_count": 1,
   "id": "0c15ead8",
   "metadata": {},
   "outputs": [],
   "source": [
    "def myexpo(x,n=100):\n",
    "    import numpy as np\n",
    "    sum=0\n",
    "    flag=0\n",
    "    tol=1e-14\n",
    "    for i in range(n+1):\n",
    "        t2=sum\n",
    "        sum=sum+(np.power(x,i)/np.math.factorial(i))\n",
    "        t1=sum\n",
    "        if(abs(t2-t1)<=tol):\n",
    "            break\n",
    "            print(\"series is converged\")\n",
    "        return sum"
   ]
  },
  {
   "cell_type": "code",
   "execution_count": null,
   "id": "40faec2f",
   "metadata": {},
   "outputs": [],
   "source": []
  }
 ],
 "metadata": {
  "kernelspec": {
   "display_name": "Python 3 (ipykernel)",
   "language": "python",
   "name": "python3"
  },
  "language_info": {
   "codemirror_mode": {
    "name": "ipython",
    "version": 3
   },
   "file_extension": ".py",
   "mimetype": "text/x-python",
   "name": "python",
   "nbconvert_exporter": "python",
   "pygments_lexer": "ipython3",
   "version": "3.9.13"
  }
 },
 "nbformat": 4,
 "nbformat_minor": 5
}
